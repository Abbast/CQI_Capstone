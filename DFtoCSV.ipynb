{
 "cells": [
  {
   "cell_type": "code",
   "execution_count": 1,
   "metadata": {},
   "outputs": [],
   "source": [
    "# Imports\n",
    "import numpy as np\n",
    "import pandas as pd"
   ]
  },
  {
   "cell_type": "code",
   "execution_count": 2,
   "metadata": {},
   "outputs": [],
   "source": [
    "# Read the CSV file, by path, into a pandas DataFrame object\n",
    "file_path = \"C:/Users/TawfikAbbas/Documents/TalentPath/CapstoneProject/data/merged_data_cleaned.csv\"\n",
    "\n",
    "df = pd.read_csv(file_path)"
   ]
  },
  {
   "cell_type": "code",
   "execution_count": 3,
   "metadata": {},
   "outputs": [],
   "source": [
    "# Drop the column `Unnamed: 0` from the dataframe\n",
    "\n",
    "df = df.drop(columns= 'Unnamed: 0')"
   ]
  },
  {
   "cell_type": "code",
   "execution_count": 4,
   "metadata": {},
   "outputs": [],
   "source": [
    "# Rename columns with the character \".\" \n",
    "\n",
    "rename_dict = {\n",
    "    \"Country.of.Origin\" : \"country_of_origin\",\n",
    "    \"Farm.Name\" : \"farm_name\",\n",
    "    \"Lot.Number\" : \"lot_number\",\n",
    "    \"ICO.Number\" : \"ICO_number\",\n",
    "    \"Number.of.Bags\" : \"number_of_bags\",\n",
    "    \"Bag.Weight\" : \"bag_weight\",\n",
    "    \"In.Country.Partner\" : \"in_country_partner\",\n",
    "    \"Harvest.Year\" : \"harvest_year\",\n",
    "    \"Owner.1\" : \"owner_1\",\n",
    "    \"Processing.Method\" : \"processing_method\",\n",
    "    \"Clean.Cup\" : \"clean_cup\",\n",
    "    \"Cupper.Points\" : \"cupper_points\",\n",
    "    \"Total.Cup.Points\" : \"total_cup_points\",\n",
    "    \"Category.One.Defects\" : \"category_one_defects\",\n",
    "    \"Category.Two.Defects\" : \"category_two_defects\",\n",
    "    \"Certification.Body\" : \"certification_body\",\n",
    "    \"Certification.Address\" : \"certification_address\",\n",
    "    \"Certification.Contact\" : \"certification_contact\"\n",
    "}"
   ]
  },
  {
   "cell_type": "code",
   "execution_count": 5,
   "metadata": {},
   "outputs": [],
   "source": [
    "df = df.rename(columns = rename_dict)"
   ]
  },
  {
   "cell_type": "code",
   "execution_count": 6,
   "metadata": {},
   "outputs": [
    {
     "data": {
      "text/plain": [
       "Index(['Species', 'Owner', 'country_of_origin', 'farm_name', 'lot_number',\n",
       "       'Mill', 'ICO_number', 'Company', 'Altitude', 'Region', 'Producer',\n",
       "       'number_of_bags', 'bag_weight', 'in_country_partner', 'harvest_year',\n",
       "       'Grading.Date', 'owner_1', 'Variety', 'processing_method', 'Aroma',\n",
       "       'Flavor', 'Aftertaste', 'Acidity', 'Body', 'Balance', 'Uniformity',\n",
       "       'clean_cup', 'Sweetness', 'cupper_points', 'total_cup_points',\n",
       "       'Moisture', 'category_one_defects', 'Quakers', 'Color',\n",
       "       'category_two_defects', 'Expiration', 'certification_body',\n",
       "       'certification_address', 'certification_contact', 'unit_of_measurement',\n",
       "       'altitude_low_meters', 'altitude_high_meters', 'altitude_mean_meters'],\n",
       "      dtype='object')"
      ]
     },
     "execution_count": 6,
     "metadata": {},
     "output_type": "execute_result"
    }
   ],
   "source": [
    "df.columns"
   ]
  },
  {
   "cell_type": "code",
   "execution_count": 7,
   "metadata": {},
   "outputs": [],
   "source": [
    "# Change all columns into lowercase\n",
    "\n",
    "df.columns = df.columns.str.lower()"
   ]
  },
  {
   "cell_type": "code",
   "execution_count": 8,
   "metadata": {},
   "outputs": [],
   "source": [
    "# Now save the dataframe into a CSV file\n",
    "\n",
    "df.to_csv(\"C:/Users/TawfikAbbas/Documents/TalentPath/CapstoneProject/coffeequality.csv\", index = False)"
   ]
  }
 ],
 "metadata": {
  "interpreter": {
   "hash": "013446cd576a931e7b2a579d29fb020f53aba647e7dad983fe06cdfc7c900dea"
  },
  "kernelspec": {
   "display_name": "Python 3.9.7 64-bit",
   "language": "python",
   "name": "python3"
  },
  "language_info": {
   "codemirror_mode": {
    "name": "ipython",
    "version": 3
   },
   "file_extension": ".py",
   "mimetype": "text/x-python",
   "name": "python",
   "nbconvert_exporter": "python",
   "pygments_lexer": "ipython3",
   "version": "3.9.7"
  },
  "orig_nbformat": 4
 },
 "nbformat": 4,
 "nbformat_minor": 2
}
